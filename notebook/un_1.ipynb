{
 "cells": [
  {
   "cell_type": "markdown",
   "id": "2054ccd0",
   "metadata": {},
   "source": [
    "3.\tImport the required packages with their customary aliases as follows:\n"
   ]
  },
  {
   "cell_type": "code",
   "execution_count": 78,
   "id": "3ae8e6d9",
   "metadata": {},
   "outputs": [],
   "source": [
    "import pandas as pd   \n",
    "import numpy as np  \n",
    "import matplotlib.pyplot as plt  \n",
    "import seaborn as sns"
   ]
  },
  {
   "cell_type": "markdown",
   "id": "3dc33f13",
   "metadata": {},
   "source": [
    "4.\tUsing the pandas `read_csv()` method, read the GDP dataset into your notebook as a DataFrame called `gdp_df`. Take a look at the first few and last few rows to familiarize yourself with what is contained in this dataset.\n"
   ]
  },
  {
   "cell_type": "code",
   "execution_count": 79,
   "id": "2645a7b9",
   "metadata": {},
   "outputs": [],
   "source": [
    "gdp_df = pd.read_csv('../data/gdp_percapita.csv')\n"
   ]
  },
  {
   "cell_type": "markdown",
   "id": "d0dbeea4",
   "metadata": {},
   "source": [
    "5. How many rows and columns are in `gdp_df`? What are the data types of each column?\n",
    "--There are 7176 rows and 4 columns\n",
    "\n"
   ]
  },
  {
   "cell_type": "code",
   "execution_count": 80,
   "id": "a37c4eee",
   "metadata": {},
   "outputs": [
    {
     "data": {
      "text/plain": [
       "(7176, 4)"
      ]
     },
     "execution_count": 80,
     "metadata": {},
     "output_type": "execute_result"
    }
   ],
   "source": [
    "gdp_df.shape"
   ]
  },
  {
   "cell_type": "markdown",
   "id": "ebcd96df",
   "metadata": {},
   "source": [
    "6. Drop the `Value Footnotes` column and rename the remaining three to 'Country', 'Year', and 'GDP_Per_Capita'.\n"
   ]
  },
  {
   "cell_type": "code",
   "execution_count": 81,
   "id": "d127b8f5",
   "metadata": {},
   "outputs": [
    {
     "name": "stdout",
     "output_type": "stream",
     "text": [
      "          Country  Year  GDP_Per_Capita\n",
      "0     Afghanistan  2020     1970.560169\n",
      "1     Afghanistan  2019     2065.036235\n",
      "2     Afghanistan  2018     2033.804389\n",
      "3     Afghanistan  2017     2058.400221\n",
      "4     Afghanistan  2016     2057.067978\n",
      "...           ...   ...             ...\n",
      "7171     Zimbabwe  1994     2603.927369\n",
      "7172     Zimbabwe  1993     2420.092791\n",
      "7173     Zimbabwe  1992     2437.152908\n",
      "7174     Zimbabwe  1991     2733.696626\n",
      "7175     Zimbabwe  1990     2652.129209\n",
      "\n",
      "[7176 rows x 3 columns]\n"
     ]
    }
   ],
   "source": [
    "gdp_df = gdp_df.drop(['Value Footnotes'], axis =1) \n",
    "gdp_df.rename(columns = {\"Country or Area\":\"Country\"}, inplace=True)\n",
    "gdp_df.rename(columns = {\"Value\":\"GDP_Per_Capita\"}, inplace=True)\n",
    "gdp_df.rename(columns = {\"Year\":\"Year\"}, inplace=True)\n",
    "print(gdp_df)"
   ]
  },
  {
   "cell_type": "markdown",
   "id": "a56b8f34",
   "metadata": {},
   "source": [
    "7. How many countries have data for all years? Which countries are missing many years of data? Look at the number of observations per year. What do you notice? \n"
   ]
  },
  {
   "cell_type": "code",
   "execution_count": 98,
   "id": "0dc7c8cd",
   "metadata": {},
   "outputs": [
    {
     "data": {
      "text/plain": [
       "['Least developed countries: UN classification',\n",
       " 'Niger',\n",
       " 'Middle East & North Africa (IDA & IBRD)',\n",
       " 'Middle income',\n",
       " 'Mongolia',\n",
       " 'Morocco',\n",
       " 'Mozambique',\n",
       " 'Myanmar',\n",
       " 'Namibia',\n",
       " 'Nepal',\n",
       " 'Netherlands',\n",
       " 'New Zealand',\n",
       " 'Nicaragua',\n",
       " 'Nigeria',\n",
       " 'Kenya',\n",
       " 'North America',\n",
       " 'North Macedonia',\n",
       " 'Norway',\n",
       " 'OECD members',\n",
       " 'Oman',\n",
       " 'Pacific island small states',\n",
       " 'Pakistan',\n",
       " 'Panama',\n",
       " 'Papua New Guinea',\n",
       " 'Paraguay',\n",
       " 'Peru',\n",
       " 'Middle East & North Africa (excluding high income)',\n",
       " 'Middle East & North Africa',\n",
       " 'Micronesia',\n",
       " 'Mexico',\n",
       " 'Korea',\n",
       " 'Kyrgyz Republic',\n",
       " 'Lao PDR',\n",
       " 'Late-demographic dividend',\n",
       " 'Latin America & Caribbean',\n",
       " 'Latin America & Caribbean (excluding high income)',\n",
       " 'Latin America & Caribbean (IDA & IBRD)',\n",
       " 'Africa Eastern and Southern',\n",
       " 'Lebanon',\n",
       " 'Lesotho',\n",
       " 'Low & middle income',\n",
       " 'Low income',\n",
       " 'Lower middle income',\n",
       " 'Luxembourg',\n",
       " 'Macao SAR, China',\n",
       " 'Madagascar',\n",
       " 'Malawi',\n",
       " 'Malaysia',\n",
       " 'Mali',\n",
       " 'Malta',\n",
       " 'Marshall Islands',\n",
       " 'Mauritania',\n",
       " 'Mauritius',\n",
       " 'Philippines',\n",
       " 'Poland',\n",
       " 'Portugal',\n",
       " 'Sweden',\n",
       " 'TÃ¼rkiye',\n",
       " 'Tajikistan',\n",
       " 'Tanzania',\n",
       " 'Thailand',\n",
       " 'The Bahamas',\n",
       " 'The Gambia',\n",
       " 'Togo',\n",
       " 'Tonga',\n",
       " 'Trinidad and Tobago',\n",
       " 'Tunisia',\n",
       " 'Tuvalu',\n",
       " 'Uganda',\n",
       " 'Ukraine',\n",
       " 'United Arab Emirates',\n",
       " 'United Kingdom',\n",
       " 'United States',\n",
       " 'Upper middle income',\n",
       " 'Uruguay',\n",
       " 'Uzbekistan',\n",
       " 'Vanuatu',\n",
       " 'Vietnam',\n",
       " 'World',\n",
       " 'Zambia',\n",
       " 'Switzerland',\n",
       " 'Suriname',\n",
       " 'Post-demographic dividend',\n",
       " 'Sudan',\n",
       " 'Pre-demographic dividend',\n",
       " 'Puerto Rico',\n",
       " 'Romania',\n",
       " 'Russia',\n",
       " 'Rwanda',\n",
       " 'Samoa',\n",
       " 'Saudi Arabia',\n",
       " 'Senegal',\n",
       " 'Seychelles',\n",
       " 'Sierra Leone',\n",
       " 'Singapore',\n",
       " 'Solomon Islands',\n",
       " 'South Africa',\n",
       " 'South Asia',\n",
       " 'South Asia (IDA & IBRD)',\n",
       " 'Spain',\n",
       " 'Sri Lanka',\n",
       " 'St. Kitts and Nevis',\n",
       " 'St. Lucia',\n",
       " 'St. Vincent and the Grenadines',\n",
       " 'Sub-Saharan Africa',\n",
       " 'Sub-Saharan Africa (excluding high income)',\n",
       " 'Sub-Saharan Africa (IDA & IBRD)',\n",
       " 'Kiribati',\n",
       " 'Zimbabwe',\n",
       " 'Kazakhstan',\n",
       " 'Congo',\n",
       " \"CÃ´te d'Ivoire\",\n",
       " 'Cabo Verde',\n",
       " 'Cameroon',\n",
       " 'Caribbean small states',\n",
       " 'Central African Republic',\n",
       " 'Central Europe and the Baltics',\n",
       " 'Chad',\n",
       " 'Chile',\n",
       " 'China',\n",
       " 'Colombia',\n",
       " 'Comoros',\n",
       " 'Costa Rica',\n",
       " 'Burkina Faso',\n",
       " 'Cyprus',\n",
       " 'Czech Republic',\n",
       " 'Dem. Rep. Congo',\n",
       " 'Denmark',\n",
       " 'Jordan',\n",
       " 'Dominican Republic',\n",
       " 'Early-demographic dividend',\n",
       " 'East Asia & Pacific',\n",
       " 'East Asia & Pacific (excluding high income)',\n",
       " 'East Asia & Pacific (IDA & IBRD)',\n",
       " 'Ecuador',\n",
       " 'Burundi',\n",
       " 'Bulgaria',\n",
       " 'El Salvador',\n",
       " 'Azerbaijan',\n",
       " 'Africa Western and Central',\n",
       " 'Albania',\n",
       " 'Algeria',\n",
       " 'Angola',\n",
       " 'Antigua and Barbuda',\n",
       " 'Arab World',\n",
       " 'Argentina',\n",
       " 'Armenia',\n",
       " 'Aruba',\n",
       " 'Australia',\n",
       " 'Austria',\n",
       " 'Bahrain',\n",
       " 'Brunei',\n",
       " 'Bangladesh',\n",
       " 'Barbados',\n",
       " 'Belarus',\n",
       " 'Belgium',\n",
       " 'Belize',\n",
       " 'Benin',\n",
       " 'Bermuda',\n",
       " 'Bhutan',\n",
       " 'Bolivia',\n",
       " 'Botswana',\n",
       " 'Brazil',\n",
       " 'Egypt',\n",
       " 'Dominica',\n",
       " 'Equatorial Guinea',\n",
       " 'Iraq',\n",
       " 'Germany',\n",
       " 'Ghana',\n",
       " 'Indonesia',\n",
       " 'Greece',\n",
       " 'Grenada',\n",
       " 'India',\n",
       " 'Guatemala',\n",
       " 'IDA total',\n",
       " 'Guinea',\n",
       " 'Guinea-Bissau',\n",
       " 'Guyana',\n",
       " 'Haiti',\n",
       " 'Heavily indebted poor countries (HIPC)',\n",
       " 'High income',\n",
       " 'Honduras',\n",
       " 'Hong Kong SAR, China',\n",
       " 'IBRD only',\n",
       " 'IDA & IBRD total',\n",
       " 'IDA blend',\n",
       " 'Georgia',\n",
       " 'Iran',\n",
       " 'Gabon',\n",
       " 'Jamaica',\n",
       " 'Eswatini',\n",
       " 'Japan',\n",
       " 'Ethiopia',\n",
       " 'Euro area',\n",
       " 'Europe & Central Asia',\n",
       " 'Europe & Central Asia (excluding high income)',\n",
       " 'Europe & Central Asia (IDA & IBRD)',\n",
       " 'European Union',\n",
       " 'Fiji',\n",
       " 'Finland',\n",
       " 'IDA only',\n",
       " 'Fragile and conflict affected situations',\n",
       " 'Ireland',\n",
       " 'France',\n",
       " 'Italy',\n",
       " 'Turkmenistan',\n",
       " 'Hungary',\n",
       " 'Slovak Republic',\n",
       " 'Cambodia',\n",
       " 'West Bank and Gaza',\n",
       " 'Bosnia and Herzegovina',\n",
       " 'Slovenia',\n",
       " 'Latvia',\n",
       " 'Israel',\n",
       " 'Lithuania',\n",
       " 'Serbia',\n",
       " 'Moldova',\n",
       " 'Iceland',\n",
       " 'Croatia',\n",
       " 'Estonia',\n",
       " 'Kuwait',\n",
       " 'Maldives',\n",
       " 'Canada',\n",
       " 'Montenegro',\n",
       " 'Small states',\n",
       " 'San Marino',\n",
       " 'Libya',\n",
       " 'Other small states',\n",
       " 'Liberia',\n",
       " 'Timor-Leste',\n",
       " 'CuraÃ§ao',\n",
       " 'Qatar',\n",
       " 'Palau',\n",
       " 'SÃ£o TomÃ© and Principe',\n",
       " 'Afghanistan',\n",
       " 'Nauru',\n",
       " 'Cayman Islands',\n",
       " 'Kosovo',\n",
       " 'Turks and Caicos Islands',\n",
       " 'Sint Maarten (Dutch part)',\n",
       " 'Somalia',\n",
       " 'Djibouti']"
      ]
     },
     "execution_count": 98,
     "metadata": {},
     "output_type": "execute_result"
    }
   ],
   "source": [
    "gdp_df.Country.value_counts().index.tolist()"
   ]
  },
  {
   "cell_type": "markdown",
   "id": "e1aeb0a0",
   "metadata": {},
   "source": [
    "8. In this question, you're going to create some plots to show the distribution of GDP per capita for the year 2020. Go to the Python Graph Gallery (https://www.python-graph-gallery.com/) and look at the different types of plots under the Distribution section. Create a histogram, a density plot, a boxplot, and a violin plot. What do you notice when you look at these plots? How do the plots compare and what information can you get out of one type that you can't necessarily get out of the others?"
   ]
  },
  {
   "cell_type": "code",
   "execution_count": 68,
   "id": "ba00d3cd",
   "metadata": {},
   "outputs": [
    {
     "ename": "ValueError",
     "evalue": "`bins` must increase monotonically, when an array",
     "output_type": "error",
     "traceback": [
      "\u001b[1;31m---------------------------------------------------------------------------\u001b[0m",
      "\u001b[1;31mValueError\u001b[0m                                Traceback (most recent call last)",
      "Cell \u001b[1;32mIn[68], line 1\u001b[0m\n\u001b[1;32m----> 1\u001b[0m \u001b[43mplt\u001b[49m\u001b[38;5;241;43m.\u001b[39;49m\u001b[43mhist\u001b[49m\u001b[43m(\u001b[49m\u001b[43mgdp_df\u001b[49m\u001b[43m[\u001b[49m\u001b[43m(\u001b[49m\u001b[43mgdp_df\u001b[49m\u001b[43m[\u001b[49m\u001b[38;5;124;43m'\u001b[39;49m\u001b[38;5;124;43mYear\u001b[39;49m\u001b[38;5;124;43m'\u001b[39;49m\u001b[43m]\u001b[49m\u001b[43m \u001b[49m\u001b[38;5;241;43m==\u001b[39;49m\u001b[43m \u001b[49m\u001b[38;5;241;43m2020\u001b[39;49m\u001b[43m)\u001b[49m\u001b[43m]\u001b[49m\u001b[43m,\u001b[49m\n\u001b[0;32m      2\u001b[0m \u001b[43m \u001b[49m\u001b[43mgdp_df\u001b[49m\u001b[43m[\u001b[49m\u001b[38;5;124;43m'\u001b[39;49m\u001b[38;5;124;43mGDP_Per_Capita\u001b[39;49m\u001b[38;5;124;43m'\u001b[39;49m\u001b[43m]\u001b[49m\u001b[43m)\u001b[49m\n\u001b[0;32m      3\u001b[0m plt\u001b[38;5;241m.\u001b[39mshow()\n",
      "File \u001b[1;32m~\\anaconda3\\lib\\site-packages\\matplotlib\\pyplot.py:2618\u001b[0m, in \u001b[0;36mhist\u001b[1;34m(x, bins, range, density, weights, cumulative, bottom, histtype, align, orientation, rwidth, log, color, label, stacked, data, **kwargs)\u001b[0m\n\u001b[0;32m   2612\u001b[0m \u001b[38;5;129m@_copy_docstring_and_deprecators\u001b[39m(Axes\u001b[38;5;241m.\u001b[39mhist)\n\u001b[0;32m   2613\u001b[0m \u001b[38;5;28;01mdef\u001b[39;00m \u001b[38;5;21mhist\u001b[39m(\n\u001b[0;32m   2614\u001b[0m         x, bins\u001b[38;5;241m=\u001b[39m\u001b[38;5;28;01mNone\u001b[39;00m, \u001b[38;5;28mrange\u001b[39m\u001b[38;5;241m=\u001b[39m\u001b[38;5;28;01mNone\u001b[39;00m, density\u001b[38;5;241m=\u001b[39m\u001b[38;5;28;01mFalse\u001b[39;00m, weights\u001b[38;5;241m=\u001b[39m\u001b[38;5;28;01mNone\u001b[39;00m,\n\u001b[0;32m   2615\u001b[0m         cumulative\u001b[38;5;241m=\u001b[39m\u001b[38;5;28;01mFalse\u001b[39;00m, bottom\u001b[38;5;241m=\u001b[39m\u001b[38;5;28;01mNone\u001b[39;00m, histtype\u001b[38;5;241m=\u001b[39m\u001b[38;5;124m'\u001b[39m\u001b[38;5;124mbar\u001b[39m\u001b[38;5;124m'\u001b[39m, align\u001b[38;5;241m=\u001b[39m\u001b[38;5;124m'\u001b[39m\u001b[38;5;124mmid\u001b[39m\u001b[38;5;124m'\u001b[39m,\n\u001b[0;32m   2616\u001b[0m         orientation\u001b[38;5;241m=\u001b[39m\u001b[38;5;124m'\u001b[39m\u001b[38;5;124mvertical\u001b[39m\u001b[38;5;124m'\u001b[39m, rwidth\u001b[38;5;241m=\u001b[39m\u001b[38;5;28;01mNone\u001b[39;00m, log\u001b[38;5;241m=\u001b[39m\u001b[38;5;28;01mFalse\u001b[39;00m, color\u001b[38;5;241m=\u001b[39m\u001b[38;5;28;01mNone\u001b[39;00m,\n\u001b[0;32m   2617\u001b[0m         label\u001b[38;5;241m=\u001b[39m\u001b[38;5;28;01mNone\u001b[39;00m, stacked\u001b[38;5;241m=\u001b[39m\u001b[38;5;28;01mFalse\u001b[39;00m, \u001b[38;5;241m*\u001b[39m, data\u001b[38;5;241m=\u001b[39m\u001b[38;5;28;01mNone\u001b[39;00m, \u001b[38;5;241m*\u001b[39m\u001b[38;5;241m*\u001b[39mkwargs):\n\u001b[1;32m-> 2618\u001b[0m     \u001b[38;5;28;01mreturn\u001b[39;00m gca()\u001b[38;5;241m.\u001b[39mhist(\n\u001b[0;32m   2619\u001b[0m         x, bins\u001b[38;5;241m=\u001b[39mbins, \u001b[38;5;28mrange\u001b[39m\u001b[38;5;241m=\u001b[39m\u001b[38;5;28mrange\u001b[39m, density\u001b[38;5;241m=\u001b[39mdensity, weights\u001b[38;5;241m=\u001b[39mweights,\n\u001b[0;32m   2620\u001b[0m         cumulative\u001b[38;5;241m=\u001b[39mcumulative, bottom\u001b[38;5;241m=\u001b[39mbottom, histtype\u001b[38;5;241m=\u001b[39mhisttype,\n\u001b[0;32m   2621\u001b[0m         align\u001b[38;5;241m=\u001b[39malign, orientation\u001b[38;5;241m=\u001b[39morientation, rwidth\u001b[38;5;241m=\u001b[39mrwidth, log\u001b[38;5;241m=\u001b[39mlog,\n\u001b[0;32m   2622\u001b[0m         color\u001b[38;5;241m=\u001b[39mcolor, label\u001b[38;5;241m=\u001b[39mlabel, stacked\u001b[38;5;241m=\u001b[39mstacked,\n\u001b[0;32m   2623\u001b[0m         \u001b[38;5;241m*\u001b[39m\u001b[38;5;241m*\u001b[39m({\u001b[38;5;124m\"\u001b[39m\u001b[38;5;124mdata\u001b[39m\u001b[38;5;124m\"\u001b[39m: data} \u001b[38;5;28;01mif\u001b[39;00m data \u001b[38;5;129;01mis\u001b[39;00m \u001b[38;5;129;01mnot\u001b[39;00m \u001b[38;5;28;01mNone\u001b[39;00m \u001b[38;5;28;01melse\u001b[39;00m {}), \u001b[38;5;241m*\u001b[39m\u001b[38;5;241m*\u001b[39mkwargs)\n",
      "File \u001b[1;32m~\\anaconda3\\lib\\site-packages\\matplotlib\\__init__.py:1442\u001b[0m, in \u001b[0;36m_preprocess_data.<locals>.inner\u001b[1;34m(ax, data, *args, **kwargs)\u001b[0m\n\u001b[0;32m   1439\u001b[0m \u001b[38;5;129m@functools\u001b[39m\u001b[38;5;241m.\u001b[39mwraps(func)\n\u001b[0;32m   1440\u001b[0m \u001b[38;5;28;01mdef\u001b[39;00m \u001b[38;5;21minner\u001b[39m(ax, \u001b[38;5;241m*\u001b[39margs, data\u001b[38;5;241m=\u001b[39m\u001b[38;5;28;01mNone\u001b[39;00m, \u001b[38;5;241m*\u001b[39m\u001b[38;5;241m*\u001b[39mkwargs):\n\u001b[0;32m   1441\u001b[0m     \u001b[38;5;28;01mif\u001b[39;00m data \u001b[38;5;129;01mis\u001b[39;00m \u001b[38;5;28;01mNone\u001b[39;00m:\n\u001b[1;32m-> 1442\u001b[0m         \u001b[38;5;28;01mreturn\u001b[39;00m func(ax, \u001b[38;5;241m*\u001b[39m\u001b[38;5;28mmap\u001b[39m(sanitize_sequence, args), \u001b[38;5;241m*\u001b[39m\u001b[38;5;241m*\u001b[39mkwargs)\n\u001b[0;32m   1444\u001b[0m     bound \u001b[38;5;241m=\u001b[39m new_sig\u001b[38;5;241m.\u001b[39mbind(ax, \u001b[38;5;241m*\u001b[39margs, \u001b[38;5;241m*\u001b[39m\u001b[38;5;241m*\u001b[39mkwargs)\n\u001b[0;32m   1445\u001b[0m     auto_label \u001b[38;5;241m=\u001b[39m (bound\u001b[38;5;241m.\u001b[39marguments\u001b[38;5;241m.\u001b[39mget(label_namer)\n\u001b[0;32m   1446\u001b[0m                   \u001b[38;5;129;01mor\u001b[39;00m bound\u001b[38;5;241m.\u001b[39mkwargs\u001b[38;5;241m.\u001b[39mget(label_namer))\n",
      "File \u001b[1;32m~\\anaconda3\\lib\\site-packages\\matplotlib\\axes\\_axes.py:6775\u001b[0m, in \u001b[0;36mAxes.hist\u001b[1;34m(self, x, bins, range, density, weights, cumulative, bottom, histtype, align, orientation, rwidth, log, color, label, stacked, **kwargs)\u001b[0m\n\u001b[0;32m   6773\u001b[0m     \u001b[38;5;28;01melse\u001b[39;00m:\n\u001b[0;32m   6774\u001b[0m         _w \u001b[38;5;241m=\u001b[39m \u001b[38;5;28;01mNone\u001b[39;00m\n\u001b[1;32m-> 6775\u001b[0m     bins \u001b[38;5;241m=\u001b[39m \u001b[43mnp\u001b[49m\u001b[38;5;241;43m.\u001b[39;49m\u001b[43mhistogram_bin_edges\u001b[49m\u001b[43m(\u001b[49m\n\u001b[0;32m   6776\u001b[0m \u001b[43m        \u001b[49m\u001b[43mnp\u001b[49m\u001b[38;5;241;43m.\u001b[39;49m\u001b[43mconcatenate\u001b[49m\u001b[43m(\u001b[49m\u001b[43mx\u001b[49m\u001b[43m)\u001b[49m\u001b[43m,\u001b[49m\u001b[43m \u001b[49m\u001b[43mbins\u001b[49m\u001b[43m,\u001b[49m\u001b[43m \u001b[49m\u001b[43mbin_range\u001b[49m\u001b[43m,\u001b[49m\u001b[43m \u001b[49m\u001b[43m_w\u001b[49m\u001b[43m)\u001b[49m\n\u001b[0;32m   6777\u001b[0m \u001b[38;5;28;01melse\u001b[39;00m:\n\u001b[0;32m   6778\u001b[0m     hist_kwargs[\u001b[38;5;124m'\u001b[39m\u001b[38;5;124mrange\u001b[39m\u001b[38;5;124m'\u001b[39m] \u001b[38;5;241m=\u001b[39m bin_range\n",
      "File \u001b[1;32m<__array_function__ internals>:180\u001b[0m, in \u001b[0;36mhistogram_bin_edges\u001b[1;34m(*args, **kwargs)\u001b[0m\n",
      "File \u001b[1;32m~\\anaconda3\\lib\\site-packages\\numpy\\lib\\histograms.py:669\u001b[0m, in \u001b[0;36mhistogram_bin_edges\u001b[1;34m(a, bins, range, weights)\u001b[0m\n\u001b[0;32m    472\u001b[0m \u001b[38;5;124mr\u001b[39m\u001b[38;5;124;03m\"\"\"\u001b[39;00m\n\u001b[0;32m    473\u001b[0m \u001b[38;5;124;03mFunction to calculate only the edges of the bins used by the `histogram`\u001b[39;00m\n\u001b[0;32m    474\u001b[0m \u001b[38;5;124;03mfunction.\u001b[39;00m\n\u001b[1;32m   (...)\u001b[0m\n\u001b[0;32m    666\u001b[0m \n\u001b[0;32m    667\u001b[0m \u001b[38;5;124;03m\"\"\"\u001b[39;00m\n\u001b[0;32m    668\u001b[0m a, weights \u001b[38;5;241m=\u001b[39m _ravel_and_check_weights(a, weights)\n\u001b[1;32m--> 669\u001b[0m bin_edges, _ \u001b[38;5;241m=\u001b[39m \u001b[43m_get_bin_edges\u001b[49m\u001b[43m(\u001b[49m\u001b[43ma\u001b[49m\u001b[43m,\u001b[49m\u001b[43m \u001b[49m\u001b[43mbins\u001b[49m\u001b[43m,\u001b[49m\u001b[43m \u001b[49m\u001b[38;5;28;43mrange\u001b[39;49m\u001b[43m,\u001b[49m\u001b[43m \u001b[49m\u001b[43mweights\u001b[49m\u001b[43m)\u001b[49m\n\u001b[0;32m    670\u001b[0m \u001b[38;5;28;01mreturn\u001b[39;00m bin_edges\n",
      "File \u001b[1;32m~\\anaconda3\\lib\\site-packages\\numpy\\lib\\histograms.py:431\u001b[0m, in \u001b[0;36m_get_bin_edges\u001b[1;34m(a, bins, range, weights)\u001b[0m\n\u001b[0;32m    429\u001b[0m     bin_edges \u001b[38;5;241m=\u001b[39m np\u001b[38;5;241m.\u001b[39masarray(bins)\n\u001b[0;32m    430\u001b[0m     \u001b[38;5;28;01mif\u001b[39;00m np\u001b[38;5;241m.\u001b[39many(bin_edges[:\u001b[38;5;241m-\u001b[39m\u001b[38;5;241m1\u001b[39m] \u001b[38;5;241m>\u001b[39m bin_edges[\u001b[38;5;241m1\u001b[39m:]):\n\u001b[1;32m--> 431\u001b[0m         \u001b[38;5;28;01mraise\u001b[39;00m \u001b[38;5;167;01mValueError\u001b[39;00m(\n\u001b[0;32m    432\u001b[0m             \u001b[38;5;124m'\u001b[39m\u001b[38;5;124m`bins` must increase monotonically, when an array\u001b[39m\u001b[38;5;124m'\u001b[39m)\n\u001b[0;32m    434\u001b[0m \u001b[38;5;28;01melse\u001b[39;00m:\n\u001b[0;32m    435\u001b[0m     \u001b[38;5;28;01mraise\u001b[39;00m \u001b[38;5;167;01mValueError\u001b[39;00m(\u001b[38;5;124m'\u001b[39m\u001b[38;5;124m`bins` must be 1d, when an array\u001b[39m\u001b[38;5;124m'\u001b[39m)\n",
      "\u001b[1;31mValueError\u001b[0m: `bins` must increase monotonically, when an array"
     ]
    },
    {
     "data": {
      "image/png": "[encoded data removed]",
      "text/plain": [
       "<Figure size 640x480 with 1 Axes>"
      ]
     },
     "metadata": {},
     "output_type": "display_data"
    }
   ],
   "source": [
    "\n",
    "plt.hist(gdp_df[(gdp_df['Year'] == 2020)],\n",
    " gdp_df['GDP_Per_Capita'])\n",
    "plt.show()"
   ]
  },
  {
   "cell_type": "code",
   "execution_count": null,
   "id": "954c788e",
   "metadata": {},
   "outputs": [],
   "source": []
  }
 ],
 "metadata": {
  "kernelspec": {
   "display_name": "Python 3 (ipykernel)",
   "language": "python",
   "name": "python3"
  },
  "language_info": {
   "codemirror_mode": {
    "name": "ipython",
    "version": 3
   },
   "file_extension": ".py",
   "mimetype": "text/x-python",
   "name": "python",
   "nbconvert_exporter": "python",
   "pygments_lexer": "ipython3",
   "version": "3.10.9"
  }
 },
 "nbformat": 4,
 "nbformat_minor": 5
}
